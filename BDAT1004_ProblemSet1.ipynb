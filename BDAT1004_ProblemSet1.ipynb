{
 "cells": [
  {
   "cell_type": "markdown",
   "metadata": {},
   "source": [
    "# <center>**BDAT 1004 Data Programming**</center>\n",
    "\n",
    "## <center> Assignment : Problem Set 1 </center>\n"
   ]
  },
  {
   "cell_type": "markdown",
   "metadata": {},
   "source": [
    "# Question 1\n",
    "What data type is each of the following?"
   ]
  },
  {
   "cell_type": "markdown",
   "metadata": {},
   "source": [
    "|Value              | Data Type                                 |                \n",
    "| :---              |------------------------------------------:|                                                       \n",
    "| 5                 | int                                       | \n",
    "| 5.0               | double                                    | \n",
    "|5 > 1              | Bool                                      |\n",
    "| '5'               | char                                      |         \n",
    "| 5 * 2             | int                                       | \n",
    "| '5' * 2           | int                                       | \n",
    "| '5' + '2'         | int                                       |\n",
    "| 5 / 2             | int or float                              |\n",
    "| 5 // 2            | int                                       |\n",
    "|[5, 2, 1]          | int (for e.g int array                    |\n",
    "|5 in [1, 4, 6]     | Bool                                      |\n",
    "|Pi (the number)    |  Float                                    |\n",
    " "
   ]
  },
  {
   "cell_type": "markdown",
   "metadata": {},
   "source": [
    "# Question 2\n",
    "Write (and evaluate) C# expressions that answer these questions:"
   ]
  },
  {
   "cell_type": "markdown",
   "metadata": {},
   "source": [
    "a. How many letters are there in 'Supercalifragilisticexpialidocious'?"
   ]
  },
  {
   "cell_type": "code",
   "execution_count": null,
   "metadata": {},
   "outputs": [],
   "source": [
    "using System;\n",
    "\n",
    "namespace BDAT1004_PS1\n",
    "{\n",
    "    class CountLetters\n",
    "    {\n",
    "        static void Main(string[] args)\n",
    "        {\n",
    "            string txt = \"Supercalifragilisticexpialidocious\"; //assigning the string to the variable'txt'\n",
    "            Console.WriteLine(\"The length of the txt string is: \" + txt.Length);\n",
    "        }\n",
    "    }\n",
    "}\n"
   ]
  },
  {
   "attachments": {
    "PS1_Quest2%28a%29.PNG": {
     "image/png": "[encoded data removed]"
    }
   },
   "cell_type": "markdown",
   "metadata": {},
   "source": [
    "![PS1_Quest2%28a%29.PNG](attachment:PS1_Quest2%28a%29.PNG)"
   ]
  },
  {
   "cell_type": "markdown",
   "metadata": {},
   "source": [
    "b. Does 'Supercalifragilisticexpialidocious' contain 'ice' as a substring? "
   ]
  },
  {
   "cell_type": "code",
   "execution_count": null,
   "metadata": {},
   "outputs": [],
   "source": [
    "using System;\n",
    "\n",
    "namespace BDAT1004_PS1\n",
    "{\n",
    "\tclass SubstringFind\n",
    "\t{\n",
    "\t\tstatic void Main()\n",
    "\t\t{\n",
    "\t\t\tstring str = \"Supercalifragilisticexpialidocious\"; //assigning the string to the variable'str'\n",
    "\n",
    "\t\t\tif (str.Contains(\"ice\") == true) //str.Contains method returns true if given substring 'ice' exists\n",
    "\t\t\t{\n",
    "\t\t\t\tConsole.WriteLine(\"Supercalifragilisticexpialidocious has 'ice' as substring\");\n",
    "\t\t\t}\n",
    "\t\t\telse\n",
    "\t\t\t{\n",
    "\t\t\t\tConsole.WriteLine(\"Supercalifragilisticexpialidocious does not have 'ice' as sub-string\");\n",
    "\t\t\t}\n",
    "\t\t}\n",
    "\t}\n",
    "}"
   ]
  },
  {
   "attachments": {
    "PS1_Quest2%28b%29.PNG": {
     "image/png": "[encoded data removed]"
    }
   },
   "cell_type": "markdown",
   "metadata": {},
   "source": [
    "![PS1_Quest2%28b%29.PNG](attachment:PS1_Quest2%28b%29.PNG)"
   ]
  },
  {
   "cell_type": "markdown",
   "metadata": {},
   "source": [
    "c. Which of the following words is the longest:\n",
    "Supercalifragilisticexpialidocious, Honorificabilitudinitatibus, or Bababadalgharaghtakamminarronnkonn?"
   ]
  },
  {
   "cell_type": "code",
   "execution_count": null,
   "metadata": {},
   "outputs": [],
   "source": [
    "using System;\n",
    "using System.Linq;\n",
    "\n",
    "namespace BDAT1004_PS1\n",
    "{\n",
    "\tclass SubstringFind\n",
    "\t{\n",
    "\t\tstatic void Main()\n",
    "\t\t{\n",
    "\t\t\tstring word1 = \"Supercalifragilisticexpialidocious\"; //assigning a string to the variable 'word1'\n",
    "\t\t\tstring word2 = \"Honorificabilitudinitatibus\"; //assigning a string to the variable 'word2'\n",
    "\t\t\tstring word3 = \"Bababadalgharaghtakamminarronnkonn\"; //assigning a string to the variable 'word3'\n",
    "\n",
    "\t\t\t  string[] Longest = { word1, word2, word3 };\n",
    "\t\t\tConsole.WriteLine(\"Longest word out of Supercalifragilisticexpialidocious, Honorificabilitudinitatibus or Bababadalgharaghtakamminarronnkonn is : \" +Longest.Max());\n",
    "\t\t\t//Using max to get the longest string in the list\n",
    "\n",
    "\n",
    "\t\t}\n",
    "\t}\n",
    "}\n"
   ]
  },
  {
   "attachments": {
    "PS1_Quest2%28c%29.PNG": {
     "image/png": "[encoded data removed]"
    }
   },
   "cell_type": "markdown",
   "metadata": {},
   "source": [
    "![PS1_Quest2%28c%29.PNG](attachment:PS1_Quest2%28c%29.PNG)"
   ]
  },
  {
   "cell_type": "markdown",
   "metadata": {},
   "source": [
    "d. Which composer comes first in the dictionary: 'Berlioz', 'Borodin', 'Brian','Bartok', 'Bellini', 'Buxtehude', 'Bernstein'. Which one comes last?"
   ]
  },
  {
   "cell_type": "code",
   "execution_count": null,
   "metadata": {},
   "outputs": [],
   "source": [
    "using System;\n",
    "\n",
    "namespace BDAT1004_PS1\n",
    "{\n",
    "\tclass Dictionary\n",
    "\t{\n",
    "\t\tstatic void Main()\n",
    "\t\t{\n",
    "\t\t\tstring[] dictionary = { \"Berlioz\", \"Borodin\", \"Brian\", \"Bartok\", \"Bellini\", \"Buxtehude\", \"Bernstein\"};\n",
    "\t\t\tArray.Sort(dictionary); //Using this to sort the array elements in ascending order\n",
    "\t\t\tConsole.WriteLine(\"Word that comes first in the dictionary : \" + dictionary[0]);\n",
    "\t\t\t//Index[0] returns first word\n",
    "\n",
    "\t\t\tConsole.WriteLine(\"Word that comes last in dictionary : \" + dictionary[6]);\n",
    "\t\t\t//Index[6] returns last word\n",
    "\n",
    "\n",
    "\t\t}\n",
    "\t}\n",
    "}"
   ]
  },
  {
   "attachments": {
    "PS1_Quest2%28d%29.PNG": {
     "image/png": "[encoded data removed]"
    }
   },
   "cell_type": "markdown",
   "metadata": {},
   "source": [
    "![PS1_Quest2%28d%29.PNG](attachment:PS1_Quest2%28d%29.PNG)"
   ]
  },
  {
   "cell_type": "markdown",
   "metadata": {},
   "source": [
    "# Question 3\n",
    "Implement function triangleArea(a,b,c) that takes as input the lengths of the 3\n",
    "sides of a triangle and returns the area of the triangle. By Heron's formula, the area\n",
    "of a triangle with side lengths a, b, and c is\n",
    "s(s - a)(s -b)(s -c)\n",
    ", where\n",
    "s = (a+b+c)/2.\n",
    ">>> triangleArea(2,2,2)\n",
    "1.7320508075688772\n"
   ]
  },
  {
   "cell_type": "code",
   "execution_count": null,
   "metadata": {},
   "outputs": [],
   "source": [
    "using System;\n",
    "\n",
    "namespace BDAT1004_PS1\n",
    "{\n",
    "    public class Program\n",
    "    {\n",
    "        public static void Main(string[] args)\n",
    "        {\n",
    "            double s, area; // data type double for area and semi-perimeter  \n",
    "            double a, b, c;\n",
    "\n",
    "            Console.WriteLine(\"Enter length of side a: \");\n",
    "            a = double.Parse(Console.ReadLine());\n",
    "            Console.WriteLine(\"Enter length of side b: \");\n",
    "            b = double.Parse(Console.ReadLine());\n",
    "            Console.WriteLine(\"Enter length of side c: \");\n",
    "            c = double.Parse(Console.ReadLine());\n",
    "\n",
    "            s = (a + b + c) / 2;\n",
    "            area = Math.Sqrt(s * (s - a) * (s - b) * (s - c));\n",
    "\n",
    "            Console.WriteLine(\"Area = {0}\", area);\n",
    "        }\n",
    "    }\n",
    "}"
   ]
  },
  {
   "attachments": {
    "PS1_Quest3.PNG": {
     "image/png": "[encoded data removed]"
    }
   },
   "cell_type": "markdown",
   "metadata": {},
   "source": [
    "![PS1_Quest3.PNG](attachment:PS1_Quest3.PNG)"
   ]
  },
  {
   "cell_type": "markdown",
   "metadata": {},
   "source": [
    "# Question 4\n",
    "Write a program in C# Sharp to separate odd and even integers in separate arrays.\n",
    "Go to the editor\n",
    "Test Data :\n",
    "Input the number of elements to be stored in the array :5\n",
    "Input 5 elements in the array :\n",
    "element - 0 : 25\n",
    "element - 1 : 47\n",
    "element - 2 : 42\n",
    "element - 3 : 56\n",
    "element - 4 : 32\n",
    "Expected Output:\n",
    "The Even elements are:\n",
    "42 56 32\n",
    "The Odd elements are :\n",
    "25 47"
   ]
  },
  {
   "cell_type": "markdown",
   "metadata": {},
   "source": [
    "using System;\n",
    "namespace Demo\n",
    "{\n",
    "    public class OddEven\n",
    "    {\n",
    "        public static void Main(string[] args)\n",
    "        {\n",
    "            int[] arr1 = new int[] { 25, 47, 42, 56, 32 };\n",
    "            int[] arr2 = new int[5];\n",
    "            int[] arr3 = new int[5];\n",
    "            int i, j = 0, k = 0;\n",
    "            for (i = 0; i < 5; i++)\n",
    "            {\n",
    "                if (arr1[i] % 2 == 0)  // result when divided by 2, gives zero remainder then the number is even else odd\n",
    "                {\n",
    "                    arr2[j] = arr1[i]; //Get the even elements,add in another array(arr2). This loops through the length of the array\n",
    "                    j++;\n",
    "                }\n",
    "                else\n",
    "                {\n",
    "                    arr3[k] = arr1[i];//Get the odd elements, add in another array(arr3).\n",
    "                    k++;\n",
    "                }\n",
    "            }\n",
    "            Console.WriteLine(\"The Even Elements are : \");\n",
    "            for (i = 0; i < j; i++)\n",
    "            {\n",
    "                Console.WriteLine(arr2[i]); //Display the even elements\n",
    "            }\n",
    "            Console.WriteLine(\"The Odd Elements are : \");\n",
    "            for (i = 0; i < k; i++)\n",
    "            {\n",
    "                Console.WriteLine(arr3[i]); //Display the odd elements\n",
    "            }\n",
    "        }\n",
    "    }\n",
    "}\n"
   ]
  },
  {
   "attachments": {
    "PS1_Quest4.PNG": {
     "image/png": "[encoded data removed]"
    }
   },
   "cell_type": "markdown",
   "metadata": {},
   "source": [
    "![PS1_Quest4.PNG](attachment:PS1_Quest4.PNG)"
   ]
  },
  {
   "cell_type": "markdown",
   "metadata": {},
   "source": [
    "# Question 5\n",
    "a. Write a function inside(x,y,x1,y1,x2,y2) that returns True or False\n",
    "depending on whether the point (x,y) lies in the rectangle with lower left\n",
    "corner (x1,y1) and upper right corner (x2,y2).\n"
   ]
  },
  {
   "cell_type": "code",
   "execution_count": null,
   "metadata": {},
   "outputs": [],
   "source": [
    "using System;\n",
    "\n",
    "namespace BDAT1004_PS1\n",
    "{\n",
    "    class Rectangle\n",
    "    {\n",
    "        public static void Main()\n",
    "        {\n",
    "            int x1 = 0, y1 = 0,\n",
    "                x2 = 2, y2 = 3;\n",
    "\n",
    "            int x = 1, y = 1;\n",
    "\n",
    "            if (inside(x, y, x1, y1, x2, y2))\n",
    "                Console.Write(\"True\");\n",
    "            else\n",
    "                Console.Write(\"False\");\n",
    "        }\n",
    "        static bool inside(int x, int y, int x1, int y1, int x2, int y2)\n",
    "        {\n",
    "            if (x > x1 && x < x2 &&\n",
    "                y > y1 && y < y2)\n",
    "                return true;\n",
    "            return false;\n",
    "        }\n",
    "    }\n",
    "}"
   ]
  },
  {
   "attachments": {
    "PS1_Quest5%28a%29.PNG": {
     "image/png": "[encoded data removed]"
    }
   },
   "cell_type": "markdown",
   "metadata": {},
   "source": [
    "![PS1_Quest5%28a%29.PNG](attachment:PS1_Quest5%28a%29.PNG)"
   ]
  },
  {
   "cell_type": "markdown",
   "metadata": {},
   "source": [
    "b. Use function inside() from part a. to write an expression that tests whether\n",
    "the point (1,1) lies in both of the following rectangles: one with lower left\n",
    "corner (0.3, 0.5) and upper right corner (1.1, 0.7) and the other with lower\n",
    "left corner (0.5, 0.2) and upper right corner (1.1, 2)."
   ]
  },
  {
   "cell_type": "code",
   "execution_count": null,
   "metadata": {},
   "outputs": [],
   "source": [
    "using System;\n",
    "\n",
    "namespace BDAT1004_PS1\n",
    "{       \n",
    "    class Rectangle\n",
    "    {\n",
    "        public static void Main()\n",
    "        {\n",
    "            double x1 = 0.3, y1 = 0.5,\n",
    "                x2 =1.1, y2 = 0.7;\n",
    "\n",
    "            int x = 1, y = 1;\n",
    "            double x3 = 0.5, y3 = 0.2;\n",
    "            double x4 = 1.1, y4 = 2;\n",
    "\n",
    "\n",
    "            if (inside(x, y, x1, y1, x2, y2,x3,y3,x4,y4))\n",
    "                Console.Write(\"True\");\n",
    "            else\n",
    "                Console.Write(\"False\");\n",
    "        }\n",
    "        static bool inside(int x, int y, double x1, double y1, double x2, double y2, double x3, double y3, double x4, double y4)\n",
    "        {\n",
    "            if (x > x1 && x < x2 &&    y > y1\n",
    "                && y < y2 && x > x3 && x < x4 \n",
    "                && y > y3 && y < y4)\n",
    "                return true;\n",
    "            return false;\n",
    "        }\n",
    "    }\n",
    "}"
   ]
  },
  {
   "attachments": {
    "PS1_Quest5%28b%29.PNG": {
     "image/png": "[encoded data removed]"
    }
   },
   "cell_type": "markdown",
   "metadata": {},
   "source": [
    "![PS1_Quest5%28b%29.PNG](attachment:PS1_Quest5%28b%29.PNG)"
   ]
  },
  {
   "cell_type": "markdown",
   "metadata": {},
   "source": [
    "# Question 6\n",
    "Write a function pig() that takes a word (i.e., a string) as input and returns its pigLatin form. Your function should still work if the input word contains upper case\n",
    "characters. Your output should always be lower case however."
   ]
  },
  {
   "cell_type": "code",
   "execution_count": 2,
   "metadata": {},
   "outputs": [
    {
     "name": "stdout",
     "output_type": "stream",
     "text": [
      "Enter a string Happy\n",
      "appyhay\n"
     ]
    }
   ],
   "source": [
    "word=input(\"Enter a string \")\n",
    "vowel = [\"a\",\"e\",\"i\",\"o\",\"u\"]\n",
    "word1 = word.lower() //Convert to Lower case\n",
    "def pig(word1): \n",
    "    if word1[0] in vowel:\n",
    "        return word1 + 'way' \n",
    "    else:\n",
    "        return word1[1:] + word1[0] + 'ay'\n",
    "print(pig(word1))"
   ]
  },
  {
   "cell_type": "markdown",
   "metadata": {},
   "source": [
    "# Question 7\n",
    "File bloodtype1.txt records blood-types of patients (A, B, AB, O or OO) at a clinic.\n",
    "Write a function bldcount() that reads the file with name name and reports (i.e.,\n",
    "prints) how many patients there are in each bloodtype."
   ]
  },
  {
   "cell_type": "code",
   "execution_count": 1,
   "metadata": {},
   "outputs": [
    {
     "name": "stdout",
     "output_type": "stream",
     "text": [
      "13 patients have blood type AB\n",
      "15 patients have blood type A\n",
      "1 patients have blood type B\n",
      "15 patients have blood type O\n",
      "0 patients have blood type OO\n"
     ]
    }
   ],
   "source": [
    "def bloodCount(): #defining a function that gives the no of patients for each blood group\n",
    "    filename = open(\"bloodtype1.txt\", \"r\") #opening the file bloodtype1.txt, which has the blood groups\n",
    "    string = (filename.readline()) #this command reads the line in the file\n",
    "    string1 = string.split() #this splits the line into individual strings and is stored in variable \"string1\"\n",
    "    x=string1.count('AB') #couning the no of specified bllood type  in the file\n",
    "    y=string1.count('A')\n",
    "    z=string1.count('B')\n",
    "    x1=string1.count('O')\n",
    "    y1=string1.count('OO')\n",
    "    print (x, \"patients have blood type AB\") #printing the no of patients with each blood type\n",
    "    print (y, \"patients have blood type A\")\n",
    "    print (z, \"patients have blood type B\")\n",
    "    print (x1, \"patients have blood type O\")\n",
    "    print (y1, \"patients have blood type OO\")\n",
    "bloodCount()"
   ]
  },
  {
   "cell_type": "markdown",
   "metadata": {},
   "source": [
    "# Question 8\n",
    "Write a function curconv() that takes as input:\n",
    "1. a currency represented using a string (e.g., 'JPY' for the Japanese Yen or\n",
    "'EUR' for the Euro)\n",
    "2. an amount\n",
    "and then converts and returns the amount in US dollars."
   ]
  },
  {
   "cell_type": "code",
   "execution_count": 2,
   "metadata": {},
   "outputs": [
    {
     "name": "stdout",
     "output_type": "stream",
     "text": [
      "122.96544\n"
     ]
    }
   ],
   "source": [
    "def curconv(currency , amount):\n",
    "    with open(r\"C:\\\\Users\\\\Neelanjna\\\\currency.txt\", 'r') as fh:\n",
    "        temp_dictionary = {}\n",
    "        a = fh.readlines()\n",
    "        for i in a:\n",
    "            temp_list = i.split()\n",
    "            temp_dictionary[ temp_list[ 0 ] ] = float(temp_list[ 1 ])\n",
    "    try:\n",
    "        output = temp_dictionary[currency] * amount\n",
    "        return output\n",
    "    except:\n",
    "        return 'Invalid Input'\n",
    "\n",
    "\n",
    "print(curconv('EUR' , 100))"
   ]
  },
  {
   "cell_type": "markdown",
   "metadata": {},
   "source": [
    "# Question 9 \n",
    "Each of the following will cause an exception (an error). Identify what type of\n",
    "exception each will cause."
   ]
  },
  {
   "cell_type": "markdown",
   "metadata": {},
   "source": [
    "## Trying to add incompatible variables, as in\n",
    "adding 6 + ‘a’"
   ]
  },
  {
   "cell_type": "code",
   "execution_count": 7,
   "metadata": {},
   "outputs": [
    {
     "ename": "TypeError",
     "evalue": "unsupported operand type(s) for +: 'int' and 'str'",
     "output_type": "error",
     "traceback": [
      "\u001b[1;31m---------------------------------------------------------------------------\u001b[0m",
      "\u001b[1;31mTypeError\u001b[0m                                 Traceback (most recent call last)",
      "\u001b[1;32m<ipython-input-7-7815ec48973b>\u001b[0m in \u001b[0;36m<module>\u001b[1;34m\u001b[0m\n\u001b[1;32m----> 1\u001b[1;33m \u001b[1;36m6\u001b[0m\u001b[1;33m+\u001b[0m\u001b[1;34m'a'\u001b[0m\u001b[1;33m\u001b[0m\u001b[1;33m\u001b[0m\u001b[0m\n\u001b[0m",
      "\u001b[1;31mTypeError\u001b[0m: unsupported operand type(s) for +: 'int' and 'str'"
     ]
    }
   ],
   "source": [
    "6+'a'"
   ]
  },
  {
   "cell_type": "markdown",
   "metadata": {},
   "source": [
    "### Gives \"TypeError: unsupported operand type(s) for +: 'int' and 'str'\""
   ]
  },
  {
   "cell_type": "markdown",
   "metadata": {},
   "source": [
    "## Referring to the 12th item of a list that has only 10 items"
   ]
  },
  {
   "cell_type": "code",
   "execution_count": 9,
   "metadata": {},
   "outputs": [
    {
     "ename": "IndexError",
     "evalue": "list index out of range",
     "output_type": "error",
     "traceback": [
      "\u001b[1;31m---------------------------------------------------------------------------\u001b[0m",
      "\u001b[1;31mIndexError\u001b[0m                                Traceback (most recent call last)",
      "\u001b[1;32m<ipython-input-9-ad90a340ff93>\u001b[0m in \u001b[0;36m<module>\u001b[1;34m\u001b[0m\n\u001b[0;32m      1\u001b[0m \u001b[0mnumberList\u001b[0m \u001b[1;33m=\u001b[0m \u001b[0mlist\u001b[0m\u001b[1;33m(\u001b[0m\u001b[0mrange\u001b[0m\u001b[1;33m(\u001b[0m\u001b[1;36m1\u001b[0m\u001b[1;33m,\u001b[0m\u001b[1;36m11\u001b[0m\u001b[1;33m)\u001b[0m\u001b[1;33m)\u001b[0m\u001b[1;33m\u001b[0m\u001b[1;33m\u001b[0m\u001b[0m\n\u001b[1;32m----> 2\u001b[1;33m \u001b[0mnumberList\u001b[0m\u001b[1;33m[\u001b[0m\u001b[1;36m12\u001b[0m\u001b[1;33m]\u001b[0m\u001b[1;33m\u001b[0m\u001b[1;33m\u001b[0m\u001b[0m\n\u001b[0m",
      "\u001b[1;31mIndexError\u001b[0m: list index out of range"
     ]
    }
   ],
   "source": [
    "numberList = list(range(1,11))\n",
    "numberList[12]"
   ]
  },
  {
   "cell_type": "markdown",
   "metadata": {},
   "source": [
    "### Gives \"IndexError: list index out of range\""
   ]
  },
  {
   "cell_type": "markdown",
   "metadata": {},
   "source": [
    "## Using a value that is out of range for a function’s input, such as calling math.sqrt(-1.0)\n"
   ]
  },
  {
   "cell_type": "code",
   "execution_count": 10,
   "metadata": {},
   "outputs": [
    {
     "ename": "ValueError",
     "evalue": "math domain error",
     "output_type": "error",
     "traceback": [
      "\u001b[1;31m---------------------------------------------------------------------------\u001b[0m",
      "\u001b[1;31mValueError\u001b[0m                                Traceback (most recent call last)",
      "\u001b[1;32m<ipython-input-10-8956a835fc63>\u001b[0m in \u001b[0;36m<module>\u001b[1;34m\u001b[0m\n\u001b[0;32m      1\u001b[0m \u001b[1;32mimport\u001b[0m \u001b[0mmath\u001b[0m\u001b[1;33m\u001b[0m\u001b[1;33m\u001b[0m\u001b[0m\n\u001b[1;32m----> 2\u001b[1;33m \u001b[0mmath\u001b[0m\u001b[1;33m.\u001b[0m\u001b[0msqrt\u001b[0m\u001b[1;33m(\u001b[0m\u001b[1;33m-\u001b[0m\u001b[1;36m1\u001b[0m\u001b[1;33m)\u001b[0m\u001b[1;33m\u001b[0m\u001b[1;33m\u001b[0m\u001b[0m\n\u001b[0m",
      "\u001b[1;31mValueError\u001b[0m: math domain error"
     ]
    }
   ],
   "source": [
    "import math\n",
    "math.sqrt(-1)"
   ]
  },
  {
   "cell_type": "markdown",
   "metadata": {},
   "source": [
    "### Gives \"ValueError: math domain error\""
   ]
  },
  {
   "cell_type": "markdown",
   "metadata": {},
   "source": [
    "## Using an undeclared variable, such as print(x) when x has not been defined "
   ]
  },
  {
   "cell_type": "code",
   "execution_count": 11,
   "metadata": {},
   "outputs": [
    {
     "ename": "NameError",
     "evalue": "name 'x' is not defined",
     "output_type": "error",
     "traceback": [
      "\u001b[1;31m---------------------------------------------------------------------------\u001b[0m",
      "\u001b[1;31mNameError\u001b[0m                                 Traceback (most recent call last)",
      "\u001b[1;32m<ipython-input-11-fc17d851ef81>\u001b[0m in \u001b[0;36m<module>\u001b[1;34m\u001b[0m\n\u001b[1;32m----> 1\u001b[1;33m \u001b[0mprint\u001b[0m\u001b[1;33m(\u001b[0m\u001b[0mx\u001b[0m\u001b[1;33m)\u001b[0m\u001b[1;33m\u001b[0m\u001b[1;33m\u001b[0m\u001b[0m\n\u001b[0m",
      "\u001b[1;31mNameError\u001b[0m: name 'x' is not defined"
     ]
    }
   ],
   "source": [
    "print(x)"
   ]
  },
  {
   "cell_type": "markdown",
   "metadata": {},
   "source": [
    "### Gives \"NameError: name 'x' is not defined\""
   ]
  },
  {
   "cell_type": "markdown",
   "metadata": {},
   "source": [
    "## Trying to open a file that does not exist, such as mistyping the file name or looking in the wrong directory. "
   ]
  },
  {
   "cell_type": "code",
   "execution_count": 13,
   "metadata": {},
   "outputs": [
    {
     "ename": "FileNotFoundError",
     "evalue": "[Errno 2] No such file or directory: 'currency.txt'",
     "output_type": "error",
     "traceback": [
      "\u001b[1;31m---------------------------------------------------------------------------\u001b[0m",
      "\u001b[1;31mFileNotFoundError\u001b[0m                         Traceback (most recent call last)",
      "\u001b[1;32m<ipython-input-13-189a966b3899>\u001b[0m in \u001b[0;36m<module>\u001b[1;34m\u001b[0m\n\u001b[1;32m----> 1\u001b[1;33m \u001b[0mf\u001b[0m\u001b[1;33m=\u001b[0m\u001b[0mopen\u001b[0m\u001b[1;33m(\u001b[0m\u001b[1;34m\"currency.txt\"\u001b[0m\u001b[1;33m,\u001b[0m \u001b[1;34m\"r\"\u001b[0m\u001b[1;33m)\u001b[0m\u001b[1;33m\u001b[0m\u001b[1;33m\u001b[0m\u001b[0m\n\u001b[0m",
      "\u001b[1;31mFileNotFoundError\u001b[0m: [Errno 2] No such file or directory: 'currency.txt'"
     ]
    }
   ],
   "source": [
    "f=open(\"currency.txt\", \"r\")"
   ]
  },
  {
   "cell_type": "markdown",
   "metadata": {},
   "source": [
    "### Gives FileNotFoundError: [Errno 2] No such file or directory: 'currency.txt'"
   ]
  },
  {
   "cell_type": "markdown",
   "metadata": {},
   "source": [
    "# Question 10\n",
    "Encryption is the process of hiding the meaning of a text by substituting letters in the\n",
    "message with other letters, according to some system. If the process is successful, no\n",
    "one but the intended recipient can understand the encrypted message. Cryptanalysis\n",
    "refers to attempts to undo the encryption, even if some details of the encryption are\n",
    "unknown (for example, if an encrypted message has been intercepted). The first step\n",
    "of cryptanalysis is often to build up a table of letter frequencies in the encrypted text.\n",
    "Assume that the string letters is already defined as\n",
    "'abcdefghijklmnopqrstuvwxyz'. Write a function called frequencies()\n",
    "that takes a string as its only parameter, and returns a list of integers, showing the\n",
    "number of times each character appears in the text. Your function may ignore any\n",
    "characters that are not in letters. "
   ]
  },
  {
   "cell_type": "code",
   "execution_count": 6,
   "metadata": {
    "scrolled": true
   },
   "outputs": [
    {
     "name": "stdout",
     "output_type": "stream",
     "text": [
      "[1, 1, 1, 3, 5, 1, 1, 2, 1, 0, 1, 0, 1, 2, 4, 0, 1, 2, 0, 3, 1, 0, 1, 1, 0, 0]\n",
      "[1, 0, 0, 0, 1, 0, 0, 0, 0, 0, 0, 1, 0, 0, 0, 2, 0, 0, 0, 0, 0, 0, 0, 0, 0, 0]\n"
     ]
    }
   ],
   "source": [
    "def frequencies(string):\n",
    "    output = []\n",
    "    for i in 'abcdefghijklmnopqrstuvwxyz':\n",
    "        temp = string.count(i) + string.count(i.upper())\n",
    "        output.append(temp)\n",
    "    print(output)\n",
    "frequencies('The quick red fox got bored and went home') \n",
    "frequencies('apple')  "
   ]
  }
 ],
 "metadata": {
  "kernelspec": {
   "display_name": "Python 3",
   "language": "python",
   "name": "python3"
  },
  "language_info": {
   "codemirror_mode": {
    "name": "ipython",
    "version": 3
   },
   "file_extension": ".py",
   "mimetype": "text/x-python",
   "name": "python",
   "nbconvert_exporter": "python",
   "pygments_lexer": "ipython3",
   "version": "3.8.5"
  }
 },
 "nbformat": 4,
 "nbformat_minor": 4
}
